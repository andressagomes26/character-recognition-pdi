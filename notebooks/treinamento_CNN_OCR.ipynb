{
 "cells": [
  {
   "attachments": {},
   "cell_type": "markdown",
   "metadata": {
    "id": "j6kNxq_REUvJ"
   },
   "source": [
    "# Desafio Técnico PDI \n",
    "\n",
    "📌 **OBJETIVO** - Considerando que a imagem em questão (encarte de supermercado) será processada por algoritmos de PDI e NLP, você como desenvolverdor do time de processamento de imagens tem a missão de aplicar à imagem algoritmos de pré-processamentos com o objetivo de destacar as regiões de interesse sabendo que cada oferta (nome e preço do produto) serão extraídos pelo time de NLP. Agora é com você, dev PDI ! Dado a imagem em anexo, escreva um código para aplicar os melhores pré-processamentos possíveis, preparando a imagem para o time de NLP.\n",
    "\n",
    "> NUVEN - Núcleo de Visão Computacional e Engenharia\n",
    "\n",
    "> Processo seletivo para a vaga **Desenvolvedor(a) em Processamento de Imagens**\n",
    "\n",
    "> Andressa Gomes Moreira"
   ]
  },
  {
   "attachments": {},
   "cell_type": "markdown",
   "metadata": {
    "id": "sknifzrREdVs"
   },
   "source": [
    "## Treinamento da rede neural para reconhecimento de texto manuscrito"
   ]
  },
  {
   "attachments": {},
   "cell_type": "markdown",
   "metadata": {
    "id": "4rpxA2izTOke"
   },
   "source": [
    "**Conectar ao drive**"
   ]
  },
  {
   "cell_type": "code",
   "execution_count": null,
   "metadata": {
    "colab": {
     "base_uri": "https://localhost:8080/"
    },
    "id": "hyVUPWPiTQ0E",
    "outputId": "17cd50f5-07a5-4427-891a-2af8c3aaeab5"
   },
   "outputs": [
    {
     "name": "stdout",
     "output_type": "stream",
     "text": [
      "Mounted at /content/drive\n"
     ]
    }
   ],
   "source": [
    "from google.colab import drive\n",
    "drive.mount('/content/drive')"
   ]
  },
  {
   "attachments": {},
   "cell_type": "markdown",
   "metadata": {
    "id": "-xF394AxElTy"
   },
   "source": [
    "**Importações**"
   ]
  },
  {
   "cell_type": "code",
   "execution_count": null,
   "metadata": {
    "colab": {
     "base_uri": "https://localhost:8080/",
     "height": 36
    },
    "id": "VOBuORkVEoFx",
    "outputId": "6da5862b-d462-4a0e-8783-9aeff6fac672"
   },
   "outputs": [
    {
     "data": {
      "application/vnd.google.colaboratory.intrinsic+json": {
       "type": "string"
      },
      "text/plain": [
       "'2.12.0'"
      ]
     },
     "execution_count": 2,
     "metadata": {},
     "output_type": "execute_result"
    }
   ],
   "source": [
    "import numpy as np\n",
    "import zipfile\n",
    "import pandas as pd\n",
    "import matplotlib.pyplot as plt\n",
    "import seaborn as sns\n",
    "import cv2\n",
    "from sklearn.preprocessing import LabelBinarizer\n",
    "from sklearn.model_selection import train_test_split\n",
    "from sklearn.metrics import classification_report, accuracy_score, confusion_matrix\n",
    "import tensorflow as tf\n",
    "from tensorflow.keras.datasets import mnist\n",
    "from tensorflow.keras.preprocessing.image import ImageDataGenerator\n",
    "from tensorflow.keras.callbacks import ModelCheckpoint, EarlyStopping\n",
    "\n",
    "tf.__version__"
   ]
  },
  {
   "attachments": {},
   "cell_type": "markdown",
   "metadata": {
    "id": "LE6Bmjj1ElaQ"
   },
   "source": [
    "### Carregamento da base de dados MNIST\n",
    "\n",
    "> O conjunto de dados MNIST é uma enorme base de dados de dígitos escritos manualmente utilizada para preparar diferentes sistemas de tratamento de imagens.\n",
    "\n",
    "> Os dados serão divididos em: 80% treinamento, 20% teste e 20% validação."
   ]
  },
  {
   "cell_type": "code",
   "execution_count": null,
   "metadata": {
    "colab": {
     "base_uri": "https://localhost:8080/"
    },
    "id": "VaHW2jFBEJXE",
    "outputId": "a57fa67d-a675-4c00-b7da-5b075bd17465"
   },
   "outputs": [
    {
     "name": "stdout",
     "output_type": "stream",
     "text": [
      "Downloading data from https://storage.googleapis.com/tensorflow/tf-keras-datasets/mnist.npz\n",
      "11490434/11490434 [==============================] - 0s 0us/step\n"
     ]
    }
   ],
   "source": [
    "(data_train, label_train), (data_test, label_test) = mnist.load_data()"
   ]
  },
  {
   "cell_type": "code",
   "execution_count": null,
   "metadata": {
    "id": "nEuFimLxKd5a"
   },
   "outputs": [],
   "source": [
    "data = np.vstack([data_train, data_test])\n",
    "labels = np.hstack([label_train, label_test])"
   ]
  },
  {
   "cell_type": "code",
   "execution_count": null,
   "metadata": {
    "id": "LvoOA9QwKlzA"
   },
   "outputs": [],
   "source": [
    "# Divisão em treinamento, teste e validação\n",
    "x_train, x_test, y_train, y_test = train_test_split(data, labels, test_size=0.2, stratify=labels, random_state = 1)\n",
    "x_train, x_valid, y_train, y_valid = train_test_split(x_train, y_train, test_size=0.2, stratify=y_train, random_state = 1)"
   ]
  },
  {
   "cell_type": "code",
   "execution_count": null,
   "metadata": {
    "colab": {
     "base_uri": "https://localhost:8080/"
    },
    "id": "t3lkSCkpFLpU",
    "outputId": "060cc6ee-cc1d-4fe0-f9c8-bfb412c2b233"
   },
   "outputs": [
    {
     "name": "stdout",
     "output_type": "stream",
     "text": [
      "(44800, 28, 28)\n",
      "(44800,)\n",
      "(14000, 28, 28)\n",
      "(14000,)\n",
      "(11200, 28, 28)\n",
      "(11200,)\n"
     ]
    }
   ],
   "source": [
    "# Shape: Treinamento\n",
    "print(x_train.shape)\n",
    "print(y_train.shape)\n",
    "\n",
    "# Shape: Teste\n",
    "print(x_test.shape)\n",
    "print(y_test.shape)\n",
    "\n",
    "# Shape: Validação\n",
    "print(x_valid.shape)\n",
    "print(y_valid.shape)"
   ]
  },
  {
   "attachments": {},
   "cell_type": "markdown",
   "metadata": {
    "id": "8c33xgxrFiAE"
   },
   "source": [
    "**Visualizando uma imagem da base MNIST**"
   ]
  },
  {
   "cell_type": "code",
   "execution_count": null,
   "metadata": {
    "colab": {
     "base_uri": "https://localhost:8080/",
     "height": 428
    },
    "id": "F09ALXlrFlRA",
    "outputId": "28c8485e-477a-4ceb-b78c-cd5c2fc38ed7"
   },
   "outputs": [
    {
     "data": {
      "image/png": "[encoded data removed]",
      "text/plain": [
       "<Figure size 640x480 with 1 Axes>"
      ]
     },
     "metadata": {},
     "output_type": "display_data"
    }
   ],
   "source": [
    "def plot_img(train, label):\n",
    "  \"\"\"Exibe a imagem da base de dados e o seu label.\n",
    "\n",
    "    Args:\n",
    "        train: Imagem da base de dados\n",
    "        label: Label da imagem\n",
    "    Returns:\n",
    "        None\n",
    "    \"\"\"\n",
    "  plt.imshow(train, cmap='gray')\n",
    "  plt.axis('off')\n",
    "  plt.title('Classe: ' + str(label));\n",
    "\n",
    "plot_img(x_train[7], y_train[7])"
   ]
  },
  {
   "attachments": {},
   "cell_type": "markdown",
   "metadata": {
    "id": "eZF0Ete4GHlx"
   },
   "source": [
    "### Pré-processamento dos dados"
   ]
  },
  {
   "attachments": {},
   "cell_type": "markdown",
   "metadata": {
    "id": "YNNif2stGfoq"
   },
   "source": [
    "**Aumento e Normalização dos dados**"
   ]
  },
  {
   "cell_type": "code",
   "execution_count": null,
   "metadata": {
    "id": "KSe_xYCgGO_Y"
   },
   "outputs": [],
   "source": [
    "train_datagen = ImageDataGenerator(rescale=1./255,\n",
    "                                     rotation_range=40,\n",
    "                                     width_shift_range=0.2,\n",
    "                                     height_shift_range=0.2,\n",
    "                                     shear_range=0.2,\n",
    "                                     zoom_range=0.2,\n",
    "                                     horizontal_flip=True,\n",
    "                                     fill_mode='nearest')\n",
    "\n",
    "\n",
    "validation_datagen = ImageDataGenerator(rescale=1./255)"
   ]
  },
  {
   "attachments": {},
   "cell_type": "markdown",
   "metadata": {
    "id": "S-wqAq6gOl4M"
   },
   "source": [
    "**Categorização das labels com One Hot Enconder**\n",
    "\n",
    "> Necessário categorizar as labels com One Hot Enconder"
   ]
  },
  {
   "cell_type": "code",
   "execution_count": null,
   "metadata": {
    "id": "FSZN3DelOnXL"
   },
   "outputs": [],
   "source": [
    "one = LabelBinarizer()\n",
    "y_train = one.fit_transform(y_train)\n",
    "y_test = one.fit_transform(y_test)\n",
    "y_valid = one.fit_transform(y_valid)"
   ]
  },
  {
   "cell_type": "code",
   "execution_count": null,
   "metadata": {
    "colab": {
     "base_uri": "https://localhost:8080/"
    },
    "id": "-NIDcwpRGPRI",
    "outputId": "bf4ce985-6535-4f2c-e4f8-702d379027fe"
   },
   "outputs": [
    {
     "data": {
      "text/plain": [
       "array([0, 0, 0, 0, 0, 1, 0, 0, 0, 0])"
      ]
     },
     "execution_count": 10,
     "metadata": {},
     "output_type": "execute_result"
    }
   ],
   "source": [
    "# Numeral 5\n",
    "y_train[7]"
   ]
  },
  {
   "cell_type": "code",
   "execution_count": null,
   "metadata": {
    "colab": {
     "base_uri": "https://localhost:8080/",
     "height": 428
    },
    "id": "wtnLOcCQQ7Zo",
    "outputId": "4db47ab6-d9b4-4279-b48d-bb25a8642b5b"
   },
   "outputs": [
    {
     "data": {
      "image/png": "[encoded data removed]",
      "text/plain": [
       "<Figure size 640x480 with 1 Axes>"
      ]
     },
     "metadata": {},
     "output_type": "display_data"
    }
   ],
   "source": [
    "plot_img(x_train[7], y_train[7])"
   ]
  },
  {
   "attachments": {},
   "cell_type": "markdown",
   "metadata": {
    "id": "1uZGy7VEQPTg"
   },
   "source": [
    "### Estrutura da rede neural"
   ]
  },
  {
   "cell_type": "code",
   "execution_count": null,
   "metadata": {
    "id": "FwVL81c8GPVj"
   },
   "outputs": [],
   "source": [
    "model = tf.keras.models.Sequential([\n",
    "    tf.keras.layers.Conv2D(32, (3,3), activation='relu', input_shape=(28, 28, 1)),\n",
    "    tf.keras.layers.MaxPooling2D(2, 2),\n",
    "    \n",
    "    tf.keras.layers.Conv2D(64, (3,3), activation='relu', padding='same'),\n",
    "    tf.keras.layers.MaxPooling2D(2,2),\n",
    "    \n",
    "    tf.keras.layers.Conv2D(128, (3,3), activation='relu', padding='same'),\n",
    "    tf.keras.layers.MaxPooling2D(2,2),\n",
    "    \n",
    "    tf.keras.layers.Flatten(),\n",
    "    tf.keras.layers.Dropout(0.5),\n",
    "    \n",
    "    tf.keras.layers.Dense(512, activation='relu'),\n",
    "    tf.keras.layers.Dense(10, activation='softmax')\n",
    "])"
   ]
  },
  {
   "cell_type": "code",
   "execution_count": null,
   "metadata": {
    "colab": {
     "base_uri": "https://localhost:8080/"
    },
    "id": "sg-bGH3wdeEq",
    "outputId": "080dc280-4983-4141-a90d-866d94152710"
   },
   "outputs": [
    {
     "name": "stdout",
     "output_type": "stream",
     "text": [
      "Model: \"sequential\"\n",
      "_________________________________________________________________\n",
      " Layer (type)                Output Shape              Param #   \n",
      "=================================================================\n",
      " conv2d (Conv2D)             (None, 26, 26, 32)        320       \n",
      "                                                                 \n",
      " max_pooling2d (MaxPooling2D  (None, 13, 13, 32)       0         \n",
      " )                                                               \n",
      "                                                                 \n",
      " conv2d_1 (Conv2D)           (None, 13, 13, 64)        18496     \n",
      "                                                                 \n",
      " max_pooling2d_1 (MaxPooling  (None, 6, 6, 64)         0         \n",
      " 2D)                                                             \n",
      "                                                                 \n",
      " conv2d_2 (Conv2D)           (None, 6, 6, 128)         73856     \n",
      "                                                                 \n",
      " max_pooling2d_2 (MaxPooling  (None, 3, 3, 128)        0         \n",
      " 2D)                                                             \n",
      "                                                                 \n",
      " flatten (Flatten)           (None, 1152)              0         \n",
      "                                                                 \n",
      " dropout (Dropout)           (None, 1152)              0         \n",
      "                                                                 \n",
      " dense (Dense)               (None, 512)               590336    \n",
      "                                                                 \n",
      " dense_1 (Dense)             (None, 10)                5130      \n",
      "                                                                 \n",
      "=================================================================\n",
      "Total params: 688,138\n",
      "Trainable params: 688,138\n",
      "Non-trainable params: 0\n",
      "_________________________________________________________________\n"
     ]
    }
   ],
   "source": [
    "model.summary()"
   ]
  },
  {
   "cell_type": "code",
   "execution_count": null,
   "metadata": {
    "id": "mLIqW0nAGPW1"
   },
   "outputs": [],
   "source": [
    "model.compile(loss = 'categorical_crossentropy', optimizer='rmsprop', metrics=['accuracy'])"
   ]
  },
  {
   "attachments": {},
   "cell_type": "markdown",
   "metadata": {
    "id": "UzvHV-Nwi7Lg"
   },
   "source": [
    "**Reshape dos dados**"
   ]
  },
  {
   "cell_type": "code",
   "execution_count": null,
   "metadata": {
    "id": "Cih-2hvMi_Pv"
   },
   "outputs": [],
   "source": [
    "x_train = np.expand_dims(x_train, axis = -1)\n",
    "x_valid = np.expand_dims(x_valid, axis = -1)\n",
    "x_test = np.expand_dims(x_test, axis = -1)"
   ]
  },
  {
   "cell_type": "code",
   "execution_count": null,
   "metadata": {
    "colab": {
     "base_uri": "https://localhost:8080/"
    },
    "id": "h-WBIsxDevmD",
    "outputId": "6e58951d-8a6a-428c-8c51-d856a09a0ae0"
   },
   "outputs": [
    {
     "data": {
      "text/plain": [
       "((44800, 28, 28, 1), (44800, 10))"
      ]
     },
     "execution_count": 16,
     "metadata": {},
     "output_type": "execute_result"
    }
   ],
   "source": [
    "x_train.shape, y_train.shape"
   ]
  },
  {
   "attachments": {},
   "cell_type": "markdown",
   "metadata": {
    "id": "xcc5u4MERcZt"
   },
   "source": [
    "**Treinamento do modelo**"
   ]
  },
  {
   "cell_type": "code",
   "execution_count": null,
   "metadata": {
    "id": "DJHwduoBR5DK"
   },
   "outputs": [],
   "source": [
    "epochs = 500\n",
    "batch_size = 128\n",
    "steps_per_epoch = len(x_train) // batch_size"
   ]
  },
  {
   "cell_type": "code",
   "execution_count": null,
   "metadata": {
    "colab": {
     "base_uri": "https://localhost:8080/"
    },
    "id": "1qO5-EL1GPdq",
    "outputId": "88bafae5-2cc5-44ce-b534-5b151c39f47f"
   },
   "outputs": [
    {
     "name": "stdout",
     "output_type": "stream",
     "text": [
      "Epoch 1/500\n",
      "349/350 [============================>.] - ETA: 0s - loss: 1.3669 - accuracy: 0.5274\n",
      "Epoch 1: val_loss improved from inf to 0.40716, saving model to drive/MyDrive/OCR/CNN_digitos_OCR.h5\n",
      "350/350 [==============================] - 28s 51ms/step - loss: 1.3648 - accuracy: 0.5282 - val_loss: 0.4072 - val_accuracy: 0.8619\n",
      "Epoch 2/500\n",
      "350/350 [==============================] - ETA: 0s - loss: 0.6626 - accuracy: 0.7827\n",
      "Epoch 2: val_loss improved from 0.40716 to 0.18717, saving model to drive/MyDrive/OCR/CNN_digitos_OCR.h5\n",
      "350/350 [==============================] - 20s 57ms/step - loss: 0.6626 - accuracy: 0.7827 - val_loss: 0.1872 - val_accuracy: 0.9438\n",
      "Epoch 3/500\n",
      "349/350 [============================>.] - ETA: 0s - loss: 0.4517 - accuracy: 0.8562\n",
      "Epoch 3: val_loss did not improve from 0.18717\n",
      "350/350 [==============================] - 18s 50ms/step - loss: 0.4515 - accuracy: 0.8563 - val_loss: 0.2664 - val_accuracy: 0.9175\n",
      "Epoch 4/500\n",
      "349/350 [============================>.] - ETA: 0s - loss: 0.3511 - accuracy: 0.8896\n",
      "Epoch 4: val_loss improved from 0.18717 to 0.12312, saving model to drive/MyDrive/OCR/CNN_digitos_OCR.h5\n",
      "350/350 [==============================] - 18s 51ms/step - loss: 0.3511 - accuracy: 0.8896 - val_loss: 0.1231 - val_accuracy: 0.9588\n",
      "Epoch 5/500\n",
      "349/350 [============================>.] - ETA: 0s - loss: 0.3024 - accuracy: 0.9045\n",
      "Epoch 5: val_loss improved from 0.12312 to 0.10325, saving model to drive/MyDrive/OCR/CNN_digitos_OCR.h5\n",
      "350/350 [==============================] - 20s 56ms/step - loss: 0.3023 - accuracy: 0.9046 - val_loss: 0.1033 - val_accuracy: 0.9678\n",
      "Epoch 6/500\n",
      "350/350 [==============================] - ETA: 0s - loss: 0.2701 - accuracy: 0.9152\n",
      "Epoch 6: val_loss improved from 0.10325 to 0.08925, saving model to drive/MyDrive/OCR/CNN_digitos_OCR.h5\n",
      "350/350 [==============================] - 21s 61ms/step - loss: 0.2701 - accuracy: 0.9152 - val_loss: 0.0892 - val_accuracy: 0.9721\n",
      "Epoch 7/500\n",
      "350/350 [==============================] - ETA: 0s - loss: 0.2493 - accuracy: 0.9224\n",
      "Epoch 7: val_loss did not improve from 0.08925\n",
      "350/350 [==============================] - 19s 54ms/step - loss: 0.2493 - accuracy: 0.9224 - val_loss: 0.1278 - val_accuracy: 0.9617\n",
      "Epoch 8/500\n",
      "350/350 [==============================] - ETA: 0s - loss: 0.2288 - accuracy: 0.9298\n",
      "Epoch 8: val_loss did not improve from 0.08925\n",
      "350/350 [==============================] - 19s 56ms/step - loss: 0.2288 - accuracy: 0.9298 - val_loss: 0.1015 - val_accuracy: 0.9679\n",
      "Epoch 9/500\n",
      "349/350 [============================>.] - ETA: 0s - loss: 0.2154 - accuracy: 0.9331\n",
      "Epoch 9: val_loss improved from 0.08925 to 0.07926, saving model to drive/MyDrive/OCR/CNN_digitos_OCR.h5\n",
      "350/350 [==============================] - 19s 54ms/step - loss: 0.2155 - accuracy: 0.9332 - val_loss: 0.0793 - val_accuracy: 0.9753\n",
      "Epoch 10/500\n",
      "350/350 [==============================] - ETA: 0s - loss: 0.2035 - accuracy: 0.9358\n",
      "Epoch 10: val_loss improved from 0.07926 to 0.07423, saving model to drive/MyDrive/OCR/CNN_digitos_OCR.h5\n",
      "350/350 [==============================] - 21s 61ms/step - loss: 0.2035 - accuracy: 0.9358 - val_loss: 0.0742 - val_accuracy: 0.9763\n",
      "Epoch 11/500\n",
      "350/350 [==============================] - ETA: 0s - loss: 0.1984 - accuracy: 0.9386\n",
      "Epoch 11: val_loss did not improve from 0.07423\n",
      "350/350 [==============================] - 19s 54ms/step - loss: 0.1984 - accuracy: 0.9386 - val_loss: 0.0815 - val_accuracy: 0.9763\n",
      "Epoch 12/500\n",
      "350/350 [==============================] - ETA: 0s - loss: 0.1914 - accuracy: 0.9399\n",
      "Epoch 12: val_loss did not improve from 0.07423\n",
      "350/350 [==============================] - 18s 51ms/step - loss: 0.1914 - accuracy: 0.9399 - val_loss: 0.0769 - val_accuracy: 0.9755\n",
      "Epoch 13/500\n",
      "350/350 [==============================] - ETA: 0s - loss: 0.1867 - accuracy: 0.9429\n",
      "Epoch 13: val_loss improved from 0.07423 to 0.07396, saving model to drive/MyDrive/OCR/CNN_digitos_OCR.h5\n",
      "350/350 [==============================] - 20s 56ms/step - loss: 0.1867 - accuracy: 0.9429 - val_loss: 0.0740 - val_accuracy: 0.9775\n",
      "Epoch 14/500\n",
      "349/350 [============================>.] - ETA: 0s - loss: 0.1764 - accuracy: 0.9445\n",
      "Epoch 14: val_loss did not improve from 0.07396\n",
      "350/350 [==============================] - 18s 50ms/step - loss: 0.1764 - accuracy: 0.9445 - val_loss: 0.0749 - val_accuracy: 0.9777\n",
      "Epoch 15/500\n",
      "349/350 [============================>.] - ETA: 0s - loss: 0.1713 - accuracy: 0.9467\n",
      "Epoch 15: val_loss did not improve from 0.07396\n",
      "350/350 [==============================] - 17s 50ms/step - loss: 0.1711 - accuracy: 0.9468 - val_loss: 0.0749 - val_accuracy: 0.9770\n",
      "Epoch 16/500\n",
      "350/350 [==============================] - ETA: 0s - loss: 0.1692 - accuracy: 0.9462\n",
      "Epoch 16: val_loss improved from 0.07396 to 0.06836, saving model to drive/MyDrive/OCR/CNN_digitos_OCR.h5\n",
      "350/350 [==============================] - 19s 55ms/step - loss: 0.1692 - accuracy: 0.9462 - val_loss: 0.0684 - val_accuracy: 0.9801\n",
      "Epoch 17/500\n",
      "350/350 [==============================] - ETA: 0s - loss: 0.1639 - accuracy: 0.9488\n",
      "Epoch 17: val_loss did not improve from 0.06836\n",
      "350/350 [==============================] - 18s 50ms/step - loss: 0.1639 - accuracy: 0.9488 - val_loss: 0.0779 - val_accuracy: 0.9757\n",
      "Epoch 18/500\n",
      "349/350 [============================>.] - ETA: 0s - loss: 0.1630 - accuracy: 0.9497\n",
      "Epoch 18: val_loss did not improve from 0.06836\n",
      "350/350 [==============================] - 17s 49ms/step - loss: 0.1634 - accuracy: 0.9496 - val_loss: 0.0750 - val_accuracy: 0.9760\n",
      "Epoch 19/500\n",
      "350/350 [==============================] - ETA: 0s - loss: 0.1567 - accuracy: 0.9511\n",
      "Epoch 19: val_loss did not improve from 0.06836\n",
      "350/350 [==============================] - 19s 54ms/step - loss: 0.1567 - accuracy: 0.9511 - val_loss: 0.0715 - val_accuracy: 0.9799\n",
      "Epoch 20/500\n",
      "349/350 [============================>.] - ETA: 0s - loss: 0.1540 - accuracy: 0.9519\n",
      "Epoch 20: val_loss did not improve from 0.06836\n",
      "350/350 [==============================] - 17s 50ms/step - loss: 0.1540 - accuracy: 0.9518 - val_loss: 0.0768 - val_accuracy: 0.9760\n",
      "Epoch 21/500\n",
      "349/350 [============================>.] - ETA: 0s - loss: 0.1526 - accuracy: 0.9515\n",
      "Epoch 21: val_loss did not improve from 0.06836\n",
      "350/350 [==============================] - 18s 51ms/step - loss: 0.1525 - accuracy: 0.9516 - val_loss: 0.0777 - val_accuracy: 0.9768\n",
      "Epoch 22/500\n",
      "350/350 [==============================] - ETA: 0s - loss: 0.1513 - accuracy: 0.9516\n",
      "Epoch 22: val_loss did not improve from 0.06836\n",
      "350/350 [==============================] - 18s 53ms/step - loss: 0.1513 - accuracy: 0.9516 - val_loss: 0.0808 - val_accuracy: 0.9759\n",
      "Epoch 23/500\n",
      "350/350 [==============================] - ETA: 0s - loss: 0.1495 - accuracy: 0.9536\n",
      "Epoch 23: val_loss did not improve from 0.06836\n",
      "350/350 [==============================] - 19s 53ms/step - loss: 0.1495 - accuracy: 0.9536 - val_loss: 0.0733 - val_accuracy: 0.9771\n",
      "Epoch 24/500\n",
      "349/350 [============================>.] - ETA: 0s - loss: 0.1439 - accuracy: 0.9551\n",
      "Epoch 24: val_loss did not improve from 0.06836\n",
      "350/350 [==============================] - 18s 51ms/step - loss: 0.1437 - accuracy: 0.9551 - val_loss: 0.0800 - val_accuracy: 0.9768\n",
      "Epoch 25/500\n",
      "350/350 [==============================] - ETA: 0s - loss: 0.1465 - accuracy: 0.9542\n",
      "Epoch 25: val_loss improved from 0.06836 to 0.06679, saving model to drive/MyDrive/OCR/CNN_digitos_OCR.h5\n",
      "350/350 [==============================] - 21s 59ms/step - loss: 0.1465 - accuracy: 0.9542 - val_loss: 0.0668 - val_accuracy: 0.9793\n",
      "Epoch 26/500\n",
      "349/350 [============================>.] - ETA: 0s - loss: 0.1425 - accuracy: 0.9557\n",
      "Epoch 26: val_loss did not improve from 0.06679\n",
      "350/350 [==============================] - 18s 50ms/step - loss: 0.1426 - accuracy: 0.9557 - val_loss: 0.0815 - val_accuracy: 0.9767\n",
      "Epoch 27/500\n",
      "350/350 [==============================] - ETA: 0s - loss: 0.1418 - accuracy: 0.9559\n",
      "Epoch 27: val_loss did not improve from 0.06679\n",
      "350/350 [==============================] - 19s 55ms/step - loss: 0.1418 - accuracy: 0.9559 - val_loss: 0.0746 - val_accuracy: 0.9780\n",
      "Epoch 28/500\n",
      "350/350 [==============================] - ETA: 0s - loss: 0.1398 - accuracy: 0.9564\n",
      "Epoch 28: val_loss did not improve from 0.06679\n",
      "350/350 [==============================] - 18s 52ms/step - loss: 0.1398 - accuracy: 0.9564 - val_loss: 0.0717 - val_accuracy: 0.9789\n",
      "Epoch 29/500\n",
      "349/350 [============================>.] - ETA: 0s - loss: 0.1399 - accuracy: 0.9566\n",
      "Epoch 29: val_loss did not improve from 0.06679\n",
      "350/350 [==============================] - 18s 51ms/step - loss: 0.1401 - accuracy: 0.9566 - val_loss: 0.0712 - val_accuracy: 0.9785\n",
      "Epoch 30/500\n",
      "350/350 [==============================] - ETA: 0s - loss: 0.1407 - accuracy: 0.9566\n",
      "Epoch 30: val_loss improved from 0.06679 to 0.06594, saving model to drive/MyDrive/OCR/CNN_digitos_OCR.h5\n",
      "350/350 [==============================] - 20s 57ms/step - loss: 0.1407 - accuracy: 0.9566 - val_loss: 0.0659 - val_accuracy: 0.9810\n",
      "Epoch 31/500\n",
      "349/350 [============================>.] - ETA: 0s - loss: 0.1306 - accuracy: 0.9591\n",
      "Epoch 31: val_loss did not improve from 0.06594\n",
      "350/350 [==============================] - 18s 50ms/step - loss: 0.1304 - accuracy: 0.9592 - val_loss: 0.0749 - val_accuracy: 0.9783\n",
      "Epoch 32/500\n",
      "349/350 [============================>.] - ETA: 0s - loss: 0.1367 - accuracy: 0.9582\n",
      "Epoch 32: val_loss did not improve from 0.06594\n",
      "350/350 [==============================] - 18s 51ms/step - loss: 0.1366 - accuracy: 0.9582 - val_loss: 0.0720 - val_accuracy: 0.9804\n",
      "Epoch 33/500\n",
      "350/350 [==============================] - ETA: 0s - loss: 0.1333 - accuracy: 0.9588\n",
      "Epoch 33: val_loss did not improve from 0.06594\n",
      "350/350 [==============================] - 19s 54ms/step - loss: 0.1333 - accuracy: 0.9588 - val_loss: 0.0715 - val_accuracy: 0.9802\n",
      "Epoch 34/500\n",
      "350/350 [==============================] - ETA: 0s - loss: 0.1334 - accuracy: 0.9585\n",
      "Epoch 34: val_loss did not improve from 0.06594\n",
      "350/350 [==============================] - 17s 50ms/step - loss: 0.1334 - accuracy: 0.9585 - val_loss: 0.0859 - val_accuracy: 0.9762\n",
      "Epoch 35/500\n",
      "350/350 [==============================] - ETA: 0s - loss: 0.1311 - accuracy: 0.9597\n",
      "Epoch 35: val_loss did not improve from 0.06594\n",
      "350/350 [==============================] - 18s 50ms/step - loss: 0.1311 - accuracy: 0.9597 - val_loss: 0.0746 - val_accuracy: 0.9783\n",
      "Epoch 36/500\n",
      "350/350 [==============================] - ETA: 0s - loss: 0.1294 - accuracy: 0.9594\n",
      "Epoch 36: val_loss did not improve from 0.06594\n",
      "350/350 [==============================] - 19s 53ms/step - loss: 0.1294 - accuracy: 0.9594 - val_loss: 0.0764 - val_accuracy: 0.9782\n",
      "Epoch 37/500\n",
      "350/350 [==============================] - ETA: 0s - loss: 0.1253 - accuracy: 0.9603\n",
      "Epoch 37: val_loss did not improve from 0.06594\n",
      "350/350 [==============================] - 18s 51ms/step - loss: 0.1253 - accuracy: 0.9603 - val_loss: 0.0780 - val_accuracy: 0.9779\n",
      "Epoch 38/500\n",
      "350/350 [==============================] - ETA: 0s - loss: 0.1291 - accuracy: 0.9603\n",
      "Epoch 38: val_loss improved from 0.06594 to 0.06051, saving model to drive/MyDrive/OCR/CNN_digitos_OCR.h5\n",
      "350/350 [==============================] - 19s 55ms/step - loss: 0.1291 - accuracy: 0.9603 - val_loss: 0.0605 - val_accuracy: 0.9812\n",
      "Epoch 39/500\n",
      "349/350 [============================>.] - ETA: 0s - loss: 0.1252 - accuracy: 0.9611\n",
      "Epoch 39: val_loss did not improve from 0.06051\n",
      "350/350 [==============================] - 18s 52ms/step - loss: 0.1250 - accuracy: 0.9612 - val_loss: 0.0673 - val_accuracy: 0.9817\n",
      "Epoch 40/500\n",
      "350/350 [==============================] - ETA: 0s - loss: 0.1236 - accuracy: 0.9624\n",
      "Epoch 40: val_loss did not improve from 0.06051\n",
      "350/350 [==============================] - 20s 57ms/step - loss: 0.1236 - accuracy: 0.9624 - val_loss: 0.0693 - val_accuracy: 0.9792\n",
      "Epoch 41/500\n",
      "350/350 [==============================] - ETA: 0s - loss: 0.1254 - accuracy: 0.9606\n",
      "Epoch 41: val_loss did not improve from 0.06051\n",
      "350/350 [==============================] - 19s 54ms/step - loss: 0.1254 - accuracy: 0.9606 - val_loss: 0.0808 - val_accuracy: 0.9772\n",
      "Epoch 42/500\n",
      "349/350 [============================>.] - ETA: 0s - loss: 0.1231 - accuracy: 0.9616\n",
      "Epoch 42: val_loss did not improve from 0.06051\n",
      "350/350 [==============================] - 18s 52ms/step - loss: 0.1230 - accuracy: 0.9616 - val_loss: 0.0893 - val_accuracy: 0.9742\n",
      "Epoch 43/500\n",
      "349/350 [============================>.] - ETA: 0s - loss: 0.1252 - accuracy: 0.9610\n",
      "Epoch 43: val_loss did not improve from 0.06051\n",
      "350/350 [==============================] - 18s 52ms/step - loss: 0.1254 - accuracy: 0.9608 - val_loss: 0.0687 - val_accuracy: 0.9802\n",
      "Epoch 44/500\n",
      "350/350 [==============================] - ETA: 0s - loss: 0.1221 - accuracy: 0.9622\n",
      "Epoch 44: val_loss did not improve from 0.06051\n",
      "350/350 [==============================] - 19s 54ms/step - loss: 0.1221 - accuracy: 0.9622 - val_loss: 0.0777 - val_accuracy: 0.9792\n",
      "Epoch 45/500\n",
      "349/350 [============================>.] - ETA: 0s - loss: 0.1253 - accuracy: 0.9618\n",
      "Epoch 45: val_loss did not improve from 0.06051\n",
      "350/350 [==============================] - 18s 53ms/step - loss: 0.1251 - accuracy: 0.9619 - val_loss: 0.0741 - val_accuracy: 0.9804\n",
      "Epoch 46/500\n",
      "349/350 [============================>.] - ETA: 0s - loss: 0.1235 - accuracy: 0.9624\n",
      "Epoch 46: val_loss did not improve from 0.06051\n",
      "350/350 [==============================] - 18s 51ms/step - loss: 0.1235 - accuracy: 0.9624 - val_loss: 0.0878 - val_accuracy: 0.9771\n",
      "Epoch 47/500\n",
      "350/350 [==============================] - ETA: 0s - loss: 0.1215 - accuracy: 0.9627\n",
      "Epoch 47: val_loss did not improve from 0.06051\n",
      "350/350 [==============================] - 21s 59ms/step - loss: 0.1215 - accuracy: 0.9627 - val_loss: 0.0856 - val_accuracy: 0.9774\n",
      "Epoch 48/500\n",
      "349/350 [============================>.] - ETA: 0s - loss: 0.1226 - accuracy: 0.9624\n",
      "Epoch 48: val_loss did not improve from 0.06051\n",
      "350/350 [==============================] - 18s 51ms/step - loss: 0.1226 - accuracy: 0.9624 - val_loss: 0.0714 - val_accuracy: 0.9801\n",
      "Epoch 49/500\n",
      "350/350 [==============================] - ETA: 0s - loss: 0.1207 - accuracy: 0.9631\n",
      "Epoch 49: val_loss did not improve from 0.06051\n",
      "350/350 [==============================] - 18s 51ms/step - loss: 0.1207 - accuracy: 0.9631 - val_loss: 0.0831 - val_accuracy: 0.9787\n",
      "Epoch 50/500\n",
      "349/350 [============================>.] - ETA: 0s - loss: 0.1238 - accuracy: 0.9617\n",
      "Epoch 50: val_loss did not improve from 0.06051\n",
      "350/350 [==============================] - 19s 56ms/step - loss: 0.1238 - accuracy: 0.9617 - val_loss: 0.0806 - val_accuracy: 0.9792\n",
      "Epoch 51/500\n",
      "349/350 [============================>.] - ETA: 0s - loss: 0.1220 - accuracy: 0.9621\n",
      "Epoch 51: val_loss did not improve from 0.06051\n",
      "350/350 [==============================] - 18s 52ms/step - loss: 0.1218 - accuracy: 0.9621 - val_loss: 0.0787 - val_accuracy: 0.9792\n",
      "Epoch 52/500\n",
      "349/350 [============================>.] - ETA: 0s - loss: 0.1195 - accuracy: 0.9639\n",
      "Epoch 52: val_loss did not improve from 0.06051\n",
      "350/350 [==============================] - 18s 52ms/step - loss: 0.1195 - accuracy: 0.9638 - val_loss: 0.0690 - val_accuracy: 0.9823\n",
      "Epoch 53/500\n",
      "349/350 [============================>.] - ETA: 0s - loss: 0.1208 - accuracy: 0.9638\n",
      "Epoch 53: val_loss did not improve from 0.06051\n",
      "350/350 [==============================] - 18s 53ms/step - loss: 0.1209 - accuracy: 0.9638 - val_loss: 0.0906 - val_accuracy: 0.9743\n",
      "Epoch 54/500\n",
      "349/350 [============================>.] - ETA: 0s - loss: 0.1153 - accuracy: 0.9640\n",
      "Epoch 54: val_loss did not improve from 0.06051\n",
      "350/350 [==============================] - 18s 52ms/step - loss: 0.1151 - accuracy: 0.9640 - val_loss: 0.0818 - val_accuracy: 0.9778\n",
      "Epoch 55/500\n",
      "350/350 [==============================] - ETA: 0s - loss: 0.1200 - accuracy: 0.9639\n",
      "Epoch 55: val_loss did not improve from 0.06051\n",
      "350/350 [==============================] - 21s 60ms/step - loss: 0.1200 - accuracy: 0.9639 - val_loss: 0.0675 - val_accuracy: 0.9821\n",
      "Epoch 56/500\n",
      "350/350 [==============================] - ETA: 0s - loss: 0.1163 - accuracy: 0.9641\n",
      "Epoch 56: val_loss did not improve from 0.06051\n",
      "350/350 [==============================] - 18s 52ms/step - loss: 0.1163 - accuracy: 0.9641 - val_loss: 0.0653 - val_accuracy: 0.9844\n",
      "Epoch 57/500\n",
      "349/350 [============================>.] - ETA: 0s - loss: 0.1181 - accuracy: 0.9633\n",
      "Epoch 57: val_loss did not improve from 0.06051\n",
      "350/350 [==============================] - 18s 52ms/step - loss: 0.1183 - accuracy: 0.9633 - val_loss: 0.0914 - val_accuracy: 0.9754\n",
      "Epoch 58/500\n",
      "349/350 [============================>.] - ETA: 0s - loss: 0.1157 - accuracy: 0.9660\n",
      "Epoch 58: val_loss did not improve from 0.06051\n",
      "350/350 [==============================] - 20s 58ms/step - loss: 0.1159 - accuracy: 0.9659 - val_loss: 0.0720 - val_accuracy: 0.9814\n",
      "Epoch 59/500\n",
      "349/350 [============================>.] - ETA: 0s - loss: 0.1196 - accuracy: 0.9636\n",
      "Epoch 59: val_loss did not improve from 0.06051\n",
      "350/350 [==============================] - 18s 51ms/step - loss: 0.1196 - accuracy: 0.9635 - val_loss: 0.0704 - val_accuracy: 0.9815\n",
      "Epoch 60/500\n",
      "349/350 [============================>.] - ETA: 0s - loss: 0.1160 - accuracy: 0.9644\n",
      "Epoch 60: val_loss did not improve from 0.06051\n",
      "350/350 [==============================] - 18s 51ms/step - loss: 0.1161 - accuracy: 0.9644 - val_loss: 0.0667 - val_accuracy: 0.9819\n",
      "Epoch 61/500\n",
      "349/350 [============================>.] - ETA: 0s - loss: 0.1196 - accuracy: 0.9631\n",
      "Epoch 61: val_loss did not improve from 0.06051\n",
      "350/350 [==============================] - 19s 53ms/step - loss: 0.1196 - accuracy: 0.9631 - val_loss: 0.0714 - val_accuracy: 0.9812\n",
      "Epoch 62/500\n",
      "350/350 [==============================] - ETA: 0s - loss: 0.1190 - accuracy: 0.9630\n",
      "Epoch 62: val_loss did not improve from 0.06051\n",
      "350/350 [==============================] - 18s 52ms/step - loss: 0.1190 - accuracy: 0.9630 - val_loss: 0.0645 - val_accuracy: 0.9829\n",
      "Epoch 63/500\n",
      "349/350 [============================>.] - ETA: 0s - loss: 0.1138 - accuracy: 0.9651\n",
      "Epoch 63: val_loss did not improve from 0.06051\n",
      "350/350 [==============================] - 20s 56ms/step - loss: 0.1142 - accuracy: 0.9651 - val_loss: 0.0673 - val_accuracy: 0.9826\n",
      "Epoch 64/500\n",
      "350/350 [==============================] - ETA: 0s - loss: 0.1115 - accuracy: 0.9656\n",
      "Epoch 64: val_loss did not improve from 0.06051\n",
      "350/350 [==============================] - 18s 52ms/step - loss: 0.1115 - accuracy: 0.9656 - val_loss: 0.0665 - val_accuracy: 0.9819\n",
      "Epoch 65/500\n",
      "350/350 [==============================] - ETA: 0s - loss: 0.1170 - accuracy: 0.9646\n",
      "Epoch 65: val_loss did not improve from 0.06051\n",
      "350/350 [==============================] - 20s 57ms/step - loss: 0.1170 - accuracy: 0.9646 - val_loss: 0.0672 - val_accuracy: 0.9808\n",
      "Epoch 66/500\n",
      "349/350 [============================>.] - ETA: 0s - loss: 0.1192 - accuracy: 0.9636\n",
      "Epoch 66: val_loss did not improve from 0.06051\n",
      "350/350 [==============================] - 18s 52ms/step - loss: 0.1191 - accuracy: 0.9636 - val_loss: 0.0816 - val_accuracy: 0.9792\n",
      "Epoch 67/500\n",
      "349/350 [============================>.] - ETA: 0s - loss: 0.1132 - accuracy: 0.9642\n",
      "Epoch 67: val_loss did not improve from 0.06051\n",
      "350/350 [==============================] - 19s 53ms/step - loss: 0.1132 - accuracy: 0.9642 - val_loss: 0.0797 - val_accuracy: 0.9800\n",
      "Epoch 68/500\n",
      "350/350 [==============================] - ETA: 0s - loss: 0.1151 - accuracy: 0.9652\n",
      "Epoch 68: val_loss did not improve from 0.06051\n",
      "350/350 [==============================] - 20s 56ms/step - loss: 0.1151 - accuracy: 0.9652 - val_loss: 0.0789 - val_accuracy: 0.9790\n",
      "Epoch 69/500\n",
      "350/350 [==============================] - ETA: 0s - loss: 0.1157 - accuracy: 0.9643\n",
      "Epoch 69: val_loss did not improve from 0.06051\n",
      "350/350 [==============================] - 18s 52ms/step - loss: 0.1157 - accuracy: 0.9643 - val_loss: 0.0694 - val_accuracy: 0.9821\n",
      "Epoch 70/500\n",
      "350/350 [==============================] - ETA: 0s - loss: 0.1147 - accuracy: 0.9650\n",
      "Epoch 70: val_loss did not improve from 0.06051\n",
      "350/350 [==============================] - 20s 57ms/step - loss: 0.1147 - accuracy: 0.9650 - val_loss: 0.0634 - val_accuracy: 0.9829\n",
      "Epoch 71/500\n",
      "349/350 [============================>.] - ETA: 0s - loss: 0.1179 - accuracy: 0.9651\n",
      "Epoch 71: val_loss did not improve from 0.06051\n",
      "350/350 [==============================] - 20s 56ms/step - loss: 0.1177 - accuracy: 0.9651 - val_loss: 0.0611 - val_accuracy: 0.9838\n",
      "Epoch 72/500\n",
      "350/350 [==============================] - ETA: 0s - loss: 0.1172 - accuracy: 0.9642\n",
      "Epoch 72: val_loss did not improve from 0.06051\n",
      "350/350 [==============================] - 19s 53ms/step - loss: 0.1172 - accuracy: 0.9642 - val_loss: 0.0711 - val_accuracy: 0.9792\n",
      "Epoch 73/500\n",
      "349/350 [============================>.] - ETA: 0s - loss: 0.1148 - accuracy: 0.9644\n",
      "Epoch 73: val_loss did not improve from 0.06051\n",
      "350/350 [==============================] - 19s 54ms/step - loss: 0.1147 - accuracy: 0.9644 - val_loss: 0.0795 - val_accuracy: 0.9788\n",
      "Epoch 74/500\n",
      "349/350 [============================>.] - ETA: 0s - loss: 0.1155 - accuracy: 0.9645\n",
      "Epoch 74: val_loss did not improve from 0.06051\n",
      "350/350 [==============================] - 18s 53ms/step - loss: 0.1155 - accuracy: 0.9645 - val_loss: 0.0708 - val_accuracy: 0.9803\n",
      "Epoch 75/500\n",
      "349/350 [============================>.] - ETA: 0s - loss: 0.1126 - accuracy: 0.9661\n",
      "Epoch 75: val_loss did not improve from 0.06051\n",
      "350/350 [==============================] - 18s 53ms/step - loss: 0.1128 - accuracy: 0.9661 - val_loss: 0.0652 - val_accuracy: 0.9828\n",
      "Epoch 76/500\n",
      "350/350 [==============================] - ETA: 0s - loss: 0.1133 - accuracy: 0.9667\n",
      "Epoch 76: val_loss did not improve from 0.06051\n",
      "350/350 [==============================] - 20s 58ms/step - loss: 0.1133 - accuracy: 0.9667 - val_loss: 0.0723 - val_accuracy: 0.9805\n",
      "Epoch 77/500\n",
      "349/350 [============================>.] - ETA: 0s - loss: 0.1104 - accuracy: 0.9659\n",
      "Epoch 77: val_loss improved from 0.06051 to 0.05614, saving model to drive/MyDrive/OCR/CNN_digitos_OCR.h5\n",
      "350/350 [==============================] - 19s 54ms/step - loss: 0.1104 - accuracy: 0.9659 - val_loss: 0.0561 - val_accuracy: 0.9858\n",
      "Epoch 78/500\n",
      "349/350 [============================>.] - ETA: 0s - loss: 0.1158 - accuracy: 0.9651\n",
      "Epoch 78: val_loss did not improve from 0.05614\n",
      "350/350 [==============================] - 19s 53ms/step - loss: 0.1161 - accuracy: 0.9650 - val_loss: 0.0618 - val_accuracy: 0.9837\n",
      "Epoch 79/500\n",
      "349/350 [============================>.] - ETA: 0s - loss: 0.1151 - accuracy: 0.9646\n",
      "Epoch 79: val_loss did not improve from 0.05614\n",
      "350/350 [==============================] - 19s 53ms/step - loss: 0.1150 - accuracy: 0.9646 - val_loss: 0.0734 - val_accuracy: 0.9810\n",
      "Epoch 80/500\n",
      "349/350 [============================>.] - ETA: 0s - loss: 0.1168 - accuracy: 0.9657\n",
      "Epoch 80: val_loss did not improve from 0.05614\n",
      "350/350 [==============================] - 18s 53ms/step - loss: 0.1166 - accuracy: 0.9658 - val_loss: 0.0812 - val_accuracy: 0.9796\n",
      "Epoch 81/500\n",
      "350/350 [==============================] - ETA: 0s - loss: 0.1122 - accuracy: 0.9662\n",
      "Epoch 81: val_loss did not improve from 0.05614\n",
      "350/350 [==============================] - 20s 56ms/step - loss: 0.1122 - accuracy: 0.9662 - val_loss: 0.0620 - val_accuracy: 0.9844\n",
      "Epoch 82/500\n",
      "349/350 [============================>.] - ETA: 0s - loss: 0.1099 - accuracy: 0.9661\n",
      "Epoch 82: val_loss did not improve from 0.05614\n",
      "350/350 [==============================] - 19s 53ms/step - loss: 0.1099 - accuracy: 0.9661 - val_loss: 0.0707 - val_accuracy: 0.9839\n",
      "Epoch 83/500\n",
      "350/350 [==============================] - ETA: 0s - loss: 0.1142 - accuracy: 0.9656\n",
      "Epoch 83: val_loss did not improve from 0.05614\n",
      "350/350 [==============================] - 19s 55ms/step - loss: 0.1142 - accuracy: 0.9656 - val_loss: 0.0570 - val_accuracy: 0.9848\n",
      "Epoch 84/500\n",
      "350/350 [==============================] - ETA: 0s - loss: 0.1133 - accuracy: 0.9655\n",
      "Epoch 84: val_loss did not improve from 0.05614\n",
      "350/350 [==============================] - 19s 54ms/step - loss: 0.1133 - accuracy: 0.9655 - val_loss: 0.0686 - val_accuracy: 0.9816\n",
      "Epoch 85/500\n",
      "349/350 [============================>.] - ETA: 0s - loss: 0.1108 - accuracy: 0.9660\n",
      "Epoch 85: val_loss did not improve from 0.05614\n",
      "350/350 [==============================] - 20s 56ms/step - loss: 0.1111 - accuracy: 0.9660 - val_loss: 0.0708 - val_accuracy: 0.9798\n",
      "Epoch 86/500\n",
      "349/350 [============================>.] - ETA: 0s - loss: 0.1138 - accuracy: 0.9661\n",
      "Epoch 86: val_loss did not improve from 0.05614\n",
      "350/350 [==============================] - 19s 55ms/step - loss: 0.1137 - accuracy: 0.9661 - val_loss: 0.0858 - val_accuracy: 0.9776\n",
      "Epoch 87/500\n",
      "350/350 [==============================] - ETA: 0s - loss: 0.1113 - accuracy: 0.9666\n",
      "Epoch 87: val_loss did not improve from 0.05614\n",
      "350/350 [==============================] - 19s 53ms/step - loss: 0.1113 - accuracy: 0.9666 - val_loss: 0.0737 - val_accuracy: 0.9825\n",
      "Epoch 88/500\n",
      "350/350 [==============================] - ETA: 0s - loss: 0.1120 - accuracy: 0.9666\n",
      "Epoch 88: val_loss did not improve from 0.05614\n",
      "350/350 [==============================] - 20s 57ms/step - loss: 0.1120 - accuracy: 0.9666 - val_loss: 0.0728 - val_accuracy: 0.9819\n",
      "Epoch 89/500\n",
      "350/350 [==============================] - ETA: 0s - loss: 0.1107 - accuracy: 0.9666\n",
      "Epoch 89: val_loss did not improve from 0.05614\n",
      "350/350 [==============================] - 19s 54ms/step - loss: 0.1107 - accuracy: 0.9666 - val_loss: 0.0770 - val_accuracy: 0.9814\n",
      "Epoch 90/500\n",
      "350/350 [==============================] - ETA: 0s - loss: 0.1112 - accuracy: 0.9670\n",
      "Epoch 90: val_loss did not improve from 0.05614\n",
      "350/350 [==============================] - 20s 57ms/step - loss: 0.1112 - accuracy: 0.9670 - val_loss: 0.0647 - val_accuracy: 0.9828\n",
      "Epoch 91/500\n",
      "349/350 [============================>.] - ETA: 0s - loss: 0.1155 - accuracy: 0.9649\n",
      "Epoch 91: val_loss did not improve from 0.05614\n",
      "350/350 [==============================] - 19s 54ms/step - loss: 0.1153 - accuracy: 0.9650 - val_loss: 0.0778 - val_accuracy: 0.9813\n",
      "Epoch 92/500\n",
      "349/350 [============================>.] - ETA: 0s - loss: 0.1125 - accuracy: 0.9660\n",
      "Epoch 92: val_loss did not improve from 0.05614\n",
      "350/350 [==============================] - 19s 55ms/step - loss: 0.1125 - accuracy: 0.9659 - val_loss: 0.0596 - val_accuracy: 0.9848\n",
      "Epoch 93/500\n",
      "349/350 [============================>.] - ETA: 0s - loss: 0.1148 - accuracy: 0.9653\n",
      "Epoch 93: val_loss did not improve from 0.05614\n",
      "350/350 [==============================] - 20s 57ms/step - loss: 0.1147 - accuracy: 0.9653 - val_loss: 0.0722 - val_accuracy: 0.9800\n",
      "Epoch 94/500\n",
      "349/350 [============================>.] - ETA: 0s - loss: 0.1084 - accuracy: 0.9665\n",
      "Epoch 94: val_loss did not improve from 0.05614\n",
      "350/350 [==============================] - 19s 54ms/step - loss: 0.1085 - accuracy: 0.9665 - val_loss: 0.0598 - val_accuracy: 0.9842\n",
      "Epoch 95/500\n",
      "350/350 [==============================] - ETA: 0s - loss: 0.1125 - accuracy: 0.9660\n",
      "Epoch 95: val_loss did not improve from 0.05614\n",
      "350/350 [==============================] - 20s 57ms/step - loss: 0.1125 - accuracy: 0.9660 - val_loss: 0.0973 - val_accuracy: 0.9756\n",
      "Epoch 96/500\n",
      "349/350 [============================>.] - ETA: 0s - loss: 0.1097 - accuracy: 0.9664\n",
      "Epoch 96: val_loss did not improve from 0.05614\n",
      "350/350 [==============================] - 19s 54ms/step - loss: 0.1097 - accuracy: 0.9664 - val_loss: 0.0606 - val_accuracy: 0.9837\n",
      "Epoch 97/500\n",
      "349/350 [============================>.] - ETA: 0s - loss: 0.1104 - accuracy: 0.9666\n",
      "Epoch 97: val_loss did not improve from 0.05614\n",
      "350/350 [==============================] - 19s 54ms/step - loss: 0.1105 - accuracy: 0.9665 - val_loss: 0.0666 - val_accuracy: 0.9829\n",
      "Epoch 98/500\n",
      "350/350 [==============================] - ETA: 0s - loss: 0.1136 - accuracy: 0.9672\n",
      "Epoch 98: val_loss did not improve from 0.05614\n",
      "350/350 [==============================] - 20s 57ms/step - loss: 0.1136 - accuracy: 0.9672 - val_loss: 0.0779 - val_accuracy: 0.9809\n",
      "Epoch 99/500\n",
      "349/350 [============================>.] - ETA: 0s - loss: 0.1119 - accuracy: 0.9663\n",
      "Epoch 99: val_loss did not improve from 0.05614\n",
      "350/350 [==============================] - 20s 57ms/step - loss: 0.1120 - accuracy: 0.9663 - val_loss: 0.0709 - val_accuracy: 0.9828\n",
      "Epoch 100/500\n",
      "350/350 [==============================] - ETA: 0s - loss: 0.1163 - accuracy: 0.9657\n",
      "Epoch 100: val_loss did not improve from 0.05614\n",
      "350/350 [==============================] - 20s 58ms/step - loss: 0.1163 - accuracy: 0.9657 - val_loss: 0.0838 - val_accuracy: 0.9779\n",
      "Epoch 101/500\n",
      "349/350 [============================>.] - ETA: 0s - loss: 0.1144 - accuracy: 0.9657\n",
      "Epoch 101: val_loss did not improve from 0.05614\n",
      "350/350 [==============================] - 19s 54ms/step - loss: 0.1144 - accuracy: 0.9657 - val_loss: 0.0622 - val_accuracy: 0.9842\n",
      "Epoch 102/500\n",
      "350/350 [==============================] - ETA: 0s - loss: 0.1108 - accuracy: 0.9672\n",
      "Epoch 102: val_loss did not improve from 0.05614\n",
      "350/350 [==============================] - 18s 53ms/step - loss: 0.1108 - accuracy: 0.9672 - val_loss: 0.0615 - val_accuracy: 0.9834\n",
      "Epoch 103/500\n",
      "350/350 [==============================] - ETA: 0s - loss: 0.1130 - accuracy: 0.9661\n",
      "Epoch 103: val_loss did not improve from 0.05614\n",
      "350/350 [==============================] - 21s 61ms/step - loss: 0.1130 - accuracy: 0.9661 - val_loss: 0.0763 - val_accuracy: 0.9813\n",
      "Epoch 104/500\n",
      "350/350 [==============================] - ETA: 0s - loss: 0.1098 - accuracy: 0.9669\n",
      "Epoch 104: val_loss did not improve from 0.05614\n",
      "350/350 [==============================] - 19s 54ms/step - loss: 0.1098 - accuracy: 0.9669 - val_loss: 0.0677 - val_accuracy: 0.9819\n",
      "Epoch 105/500\n",
      "350/350 [==============================] - ETA: 0s - loss: 0.1106 - accuracy: 0.9667\n",
      "Epoch 105: val_loss did not improve from 0.05614\n",
      "350/350 [==============================] - 21s 59ms/step - loss: 0.1106 - accuracy: 0.9667 - val_loss: 0.0704 - val_accuracy: 0.9829\n",
      "Epoch 106/500\n",
      "350/350 [==============================] - ETA: 0s - loss: 0.1142 - accuracy: 0.9661\n",
      "Epoch 106: val_loss did not improve from 0.05614\n",
      "350/350 [==============================] - 19s 53ms/step - loss: 0.1142 - accuracy: 0.9661 - val_loss: 0.0675 - val_accuracy: 0.9813\n",
      "Epoch 107/500\n",
      "350/350 [==============================] - ETA: 0s - loss: 0.1132 - accuracy: 0.9654\n",
      "Epoch 107: val_loss did not improve from 0.05614\n",
      "350/350 [==============================] - 19s 54ms/step - loss: 0.1132 - accuracy: 0.9654 - val_loss: 0.0608 - val_accuracy: 0.9846\n",
      "Epoch 108/500\n",
      "349/350 [============================>.] - ETA: 0s - loss: 0.1121 - accuracy: 0.9659\n",
      "Epoch 108: val_loss did not improve from 0.05614\n",
      "350/350 [==============================] - 20s 58ms/step - loss: 0.1119 - accuracy: 0.9659 - val_loss: 0.0812 - val_accuracy: 0.9791\n",
      "Epoch 109/500\n",
      "350/350 [==============================] - ETA: 0s - loss: 0.1142 - accuracy: 0.9669\n",
      "Epoch 109: val_loss did not improve from 0.05614\n",
      "350/350 [==============================] - 19s 53ms/step - loss: 0.1142 - accuracy: 0.9669 - val_loss: 0.0665 - val_accuracy: 0.9825\n",
      "Epoch 110/500\n",
      "349/350 [============================>.] - ETA: 0s - loss: 0.1128 - accuracy: 0.9658\n",
      "Epoch 110: val_loss did not improve from 0.05614\n",
      "350/350 [==============================] - 19s 54ms/step - loss: 0.1127 - accuracy: 0.9659 - val_loss: 0.0626 - val_accuracy: 0.9855\n",
      "Epoch 111/500\n",
      "349/350 [============================>.] - ETA: 0s - loss: 0.1139 - accuracy: 0.9654\n",
      "Epoch 111: val_loss did not improve from 0.05614\n",
      "350/350 [==============================] - 19s 53ms/step - loss: 0.1137 - accuracy: 0.9654 - val_loss: 0.0640 - val_accuracy: 0.9834\n",
      "Epoch 112/500\n",
      "350/350 [==============================] - ETA: 0s - loss: 0.1126 - accuracy: 0.9673\n",
      "Epoch 112: val_loss did not improve from 0.05614\n",
      "350/350 [==============================] - 20s 58ms/step - loss: 0.1126 - accuracy: 0.9673 - val_loss: 0.0723 - val_accuracy: 0.9795\n",
      "Epoch 113/500\n",
      "349/350 [============================>.] - ETA: 0s - loss: 0.1113 - accuracy: 0.9669\n",
      "Epoch 113: val_loss did not improve from 0.05614\n",
      "350/350 [==============================] - 21s 59ms/step - loss: 0.1112 - accuracy: 0.9669 - val_loss: 0.0688 - val_accuracy: 0.9853\n",
      "Epoch 114/500\n",
      "349/350 [============================>.] - ETA: 0s - loss: 0.1116 - accuracy: 0.9661\n",
      "Epoch 114: val_loss did not improve from 0.05614\n",
      "350/350 [==============================] - 20s 57ms/step - loss: 0.1114 - accuracy: 0.9661 - val_loss: 0.0704 - val_accuracy: 0.9832\n",
      "Epoch 115/500\n",
      "350/350 [==============================] - ETA: 0s - loss: 0.1114 - accuracy: 0.9664\n",
      "Epoch 115: val_loss did not improve from 0.05614\n",
      "350/350 [==============================] - 19s 55ms/step - loss: 0.1114 - accuracy: 0.9664 - val_loss: 0.0668 - val_accuracy: 0.9838\n",
      "Epoch 116/500\n",
      "349/350 [============================>.] - ETA: 0s - loss: 0.1098 - accuracy: 0.9671\n",
      "Epoch 116: val_loss did not improve from 0.05614\n",
      "350/350 [==============================] - 19s 54ms/step - loss: 0.1098 - accuracy: 0.9671 - val_loss: 0.0774 - val_accuracy: 0.9811\n",
      "Epoch 117/500\n",
      "350/350 [==============================] - ETA: 0s - loss: 0.1050 - accuracy: 0.9673\n",
      "Epoch 117: val_loss did not improve from 0.05614\n",
      "350/350 [==============================] - 21s 60ms/step - loss: 0.1050 - accuracy: 0.9673 - val_loss: 0.0956 - val_accuracy: 0.9753\n",
      "Epoch 118/500\n",
      "350/350 [==============================] - ETA: 0s - loss: 0.1087 - accuracy: 0.9669\n",
      "Epoch 118: val_loss did not improve from 0.05614\n",
      "350/350 [==============================] - 20s 58ms/step - loss: 0.1087 - accuracy: 0.9669 - val_loss: 0.0715 - val_accuracy: 0.9825\n",
      "Epoch 119/500\n",
      "350/350 [==============================] - ETA: 0s - loss: 0.1122 - accuracy: 0.9666\n",
      "Epoch 119: val_loss did not improve from 0.05614\n",
      "350/350 [==============================] - 19s 54ms/step - loss: 0.1122 - accuracy: 0.9666 - val_loss: 0.0712 - val_accuracy: 0.9829\n",
      "Epoch 120/500\n",
      "350/350 [==============================] - ETA: 0s - loss: 0.1097 - accuracy: 0.9675\n",
      "Epoch 120: val_loss did not improve from 0.05614\n",
      "350/350 [==============================] - 20s 58ms/step - loss: 0.1097 - accuracy: 0.9675 - val_loss: 0.0721 - val_accuracy: 0.9809\n",
      "Epoch 121/500\n",
      "350/350 [==============================] - ETA: 0s - loss: 0.1101 - accuracy: 0.9672\n",
      "Epoch 121: val_loss did not improve from 0.05614\n",
      "350/350 [==============================] - 19s 56ms/step - loss: 0.1101 - accuracy: 0.9672 - val_loss: 0.0615 - val_accuracy: 0.9828\n",
      "Epoch 122/500\n",
      "350/350 [==============================] - ETA: 0s - loss: 0.1137 - accuracy: 0.9671\n",
      "Epoch 122: val_loss did not improve from 0.05614\n",
      "350/350 [==============================] - 19s 54ms/step - loss: 0.1137 - accuracy: 0.9671 - val_loss: 0.0882 - val_accuracy: 0.9789\n",
      "Epoch 123/500\n",
      "349/350 [============================>.] - ETA: 0s - loss: 0.1101 - accuracy: 0.9668\n",
      "Epoch 123: val_loss did not improve from 0.05614\n",
      "350/350 [==============================] - 21s 59ms/step - loss: 0.1104 - accuracy: 0.9667 - val_loss: 0.0656 - val_accuracy: 0.9826\n",
      "Epoch 124/500\n",
      "349/350 [============================>.] - ETA: 0s - loss: 0.1111 - accuracy: 0.9671\n",
      "Epoch 124: val_loss did not improve from 0.05614\n",
      "350/350 [==============================] - 19s 54ms/step - loss: 0.1110 - accuracy: 0.9671 - val_loss: 0.0693 - val_accuracy: 0.9809\n",
      "Epoch 125/500\n",
      "350/350 [==============================] - ETA: 0s - loss: 0.1094 - accuracy: 0.9667\n",
      "Epoch 125: val_loss did not improve from 0.05614\n",
      "350/350 [==============================] - 20s 57ms/step - loss: 0.1094 - accuracy: 0.9667 - val_loss: 0.0849 - val_accuracy: 0.9802\n",
      "Epoch 126/500\n",
      "350/350 [==============================] - ETA: 0s - loss: 0.1120 - accuracy: 0.9668\n",
      "Epoch 126: val_loss did not improve from 0.05614\n",
      "350/350 [==============================] - 21s 60ms/step - loss: 0.1120 - accuracy: 0.9668 - val_loss: 0.0730 - val_accuracy: 0.9826\n",
      "Epoch 127/500\n",
      "350/350 [==============================] - ETA: 0s - loss: 0.1093 - accuracy: 0.9674\n",
      "Epoch 127: val_loss did not improve from 0.05614\n",
      "350/350 [==============================] - 19s 55ms/step - loss: 0.1093 - accuracy: 0.9674 - val_loss: 0.0630 - val_accuracy: 0.9826\n",
      "Epoch 127: early stopping\n"
     ]
    }
   ],
   "source": [
    "checkpoint = ModelCheckpoint(r'drive/MyDrive/OCR/CNN_digitos_OCR.h5', monitor='val_loss', verbose=1, mode='min', save_best_only=True)\n",
    "early_stop = EarlyStopping(monitor='val_loss', min_delta=0.001, patience=50, mode='min', verbose=1)\n",
    "\n",
    "history = model.fit(train_datagen.flow(x_train, y_train, batch_size=batch_size),\n",
    "                    validation_data = validation_datagen.flow(x_valid, y_valid),\n",
    "                    steps_per_epoch = steps_per_epoch,\n",
    "                    epochs = epochs, verbose=1, \n",
    "                    callbacks=[checkpoint, early_stop])"
   ]
  },
  {
   "attachments": {},
   "cell_type": "markdown",
   "metadata": {
    "id": "m-2pYa2Ua7ZI"
   },
   "source": [
    "### Testes"
   ]
  },
  {
   "cell_type": "code",
   "execution_count": null,
   "metadata": {
    "colab": {
     "base_uri": "https://localhost:8080/",
     "height": 446
    },
    "id": "NuQGvpi1bMmc",
    "outputId": "1d154aa6-9c06-4a2c-8a88-b9a341c3bee0"
   },
   "outputs": [
    {
     "name": "stdout",
     "output_type": "stream",
     "text": [
      "500\n"
     ]
    },
    {
     "data": {
      "image/png": "[encoded data removed]",
      "text/plain": [
       "<Figure size 1200x400 with 2 Axes>"
      ]
     },
     "metadata": {},
     "output_type": "display_data"
    }
   ],
   "source": [
    "def plot_evolution(history, epochs):\n",
    "  f, (ax1, ax2) = plt.subplots(1, 2, figsize=(12, 4))\n",
    "  t = f.suptitle('Training evolution', fontsize=12)\n",
    "  f.subplots_adjust(top=0.85, wspace=0.3)\n",
    "\n",
    "  epoch_list = list(range(1,127+1))\n",
    "  ax1.plot(epoch_list, history.history['accuracy'], label='Train Accuracy')\n",
    "  ax1.plot(epoch_list, history.history['val_accuracy'], label='Validation Accuracy')\n",
    "  ax1.set_ylabel('Accuracy Value')\n",
    "  ax1.set_xlabel('Epoch')\n",
    "  ax1.set_title('Accuracy')\n",
    "\n",
    "  ax2.plot(epoch_list, history.history['loss'], label='Train Loss')\n",
    "  ax2.plot(epoch_list, history.history['val_loss'], label='Validation Loss')\n",
    "  ax2.set_ylabel('Loss Value')\n",
    "  ax2.set_xlabel('Epoch')\n",
    "  ax2.set_title('Loss')\n",
    "\n",
    "plot_evolution(history, epochs)\n",
    "print(epochs)"
   ]
  },
  {
   "cell_type": "code",
   "execution_count": null,
   "metadata": {
    "id": "UB71hB0JjDOW"
   },
   "outputs": [],
   "source": []
  }
 ],
 "metadata": {
  "accelerator": "GPU",
  "colab": {
   "gpuType": "T4",
   "provenance": []
  },
  "gpuClass": "standard",
  "kernelspec": {
   "display_name": "Python 3 (ipykernel)",
   "language": "python",
   "name": "python3"
  },
  "language_info": {
   "codemirror_mode": {
    "name": "ipython",
    "version": 3
   },
   "file_extension": ".py",
   "mimetype": "text/x-python",
   "name": "python",
   "nbconvert_exporter": "python",
   "pygments_lexer": "ipython3",
   "version": "3.10.9"
  }
 },
 "nbformat": 4,
 "nbformat_minor": 1
}
